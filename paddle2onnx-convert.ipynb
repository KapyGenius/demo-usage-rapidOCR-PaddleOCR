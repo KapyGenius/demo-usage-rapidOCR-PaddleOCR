{
 "cells": [
  {
   "cell_type": "code",
   "execution_count": 5,
   "metadata": {},
   "outputs": [
    {
     "name": "stdout",
     "output_type": "stream",
     "text": [
      "3.0.0\n"
     ]
    }
   ],
   "source": [
    "import paddle\n",
    "print(paddle.__version__)"
   ]
  },
  {
   "cell_type": "code",
   "execution_count": 7,
   "metadata": {},
   "outputs": [
    {
     "name": "stdout",
     "output_type": "stream",
     "text": [
      "/Users/donaldkapyouo/Documents/kapywork/paddle2onnx-converter/.venv/lib/python3.10/site-packages/paddle/utils/cpp_extension/extension_utils.py:711: UserWarning: No ccache found. Please be aware that recompiling all source files may be required. You can download and install ccache from: https://github.com/ccache/ccache/blob/master/doc/INSTALL.md\n",
      "  warnings.warn(warning_message)\n",
      "[Paddle2ONNX] Start parsing the Paddle model file...\n",
      "[Paddle2ONNX] Use opset_version = 14 for ONNX export.\n",
      "[Paddle2ONNX] PaddlePaddle model is exported as ONNX format now.\n",
      "2025-04-29 13:47:13 [INFO]\tTry to perform optimization on the ONNX model with onnxoptimizer.\n",
      "2025-04-29 13:47:13 [INFO]\tONNX model saved in models/ocr_v4_server_det.onnx.\n"
     ]
    }
   ],
   "source": [
    "!paddle2onnx --model_dir PP-OCRv4_server_det_infer \\\n",
    "             --model_filename inference.json \\\n",
    "             --params_filename inference.pdiparams \\\n",
    "             --save_file models/ocr_v4_server_det.onnx"
   ]
  }
 ],
 "metadata": {
  "kernelspec": {
   "display_name": ".venv",
   "language": "python",
   "name": "python3"
  },
  "language_info": {
   "codemirror_mode": {
    "name": "ipython",
    "version": 3
   },
   "file_extension": ".py",
   "mimetype": "text/x-python",
   "name": "python",
   "nbconvert_exporter": "python",
   "pygments_lexer": "ipython3",
   "version": "3.10.16"
  }
 },
 "nbformat": 4,
 "nbformat_minor": 2
}
