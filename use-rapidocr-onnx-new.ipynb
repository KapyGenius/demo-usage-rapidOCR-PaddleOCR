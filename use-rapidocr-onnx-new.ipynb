{
 "cells": [
  {
   "cell_type": "code",
   "execution_count": 1,
   "metadata": {},
   "outputs": [],
   "source": [
    "from rapidocr import RapidOCR"
   ]
  },
  {
   "cell_type": "code",
   "execution_count": 2,
   "metadata": {},
   "outputs": [
    {
     "name": "stderr",
     "output_type": "stream",
     "text": [
      "\u001b[32m[INFO] 2025-04-29 14:30:16,155 [RapidOCR] base.py:41: Using engine_name: onnxruntime\u001b[0m\n",
      "\u001b[32m[INFO] 2025-04-29 14:30:16,229 [RapidOCR] download_file.py:56: File exists and is valid: /Users/donaldkapyouo/Documents/kapywork/paddle2onnx-converter/.venv/lib/python3.10/site-packages/rapidocr/models/ch_PP-OCRv4_det_server_infer.onnx\u001b[0m\n",
      "\u001b[32m[INFO] 2025-04-29 14:30:16,299 [RapidOCR] base.py:41: Using engine_name: onnxruntime\u001b[0m\n",
      "\u001b[32m[INFO] 2025-04-29 14:30:16,301 [RapidOCR] download_file.py:56: File exists and is valid: /Users/donaldkapyouo/Documents/kapywork/paddle2onnx-converter/.venv/lib/python3.10/site-packages/rapidocr/models/ch_ppocr_mobile_v2.0_cls_infer.onnx\u001b[0m\n",
      "\u001b[32m[INFO] 2025-04-29 14:30:16,314 [RapidOCR] base.py:41: Using engine_name: onnxruntime\u001b[0m\n",
      "\u001b[32m[INFO] 2025-04-29 14:30:16,357 [RapidOCR] download_file.py:56: File exists and is valid: /Users/donaldkapyouo/Documents/kapywork/paddle2onnx-converter/.venv/lib/python3.10/site-packages/rapidocr/models/ch_PP-OCRv4_rec_server_infer.onnx\u001b[0m\n"
     ]
    }
   ],
   "source": [
    "engine = RapidOCR(\n",
    "    params={\"Global.lang_det\": \"ch_server\", \"Global.lang_rec\": \"ch_server\"}\n",
    ")\n",
    "img_url = \"https://muthu.co/wp-content/uploads/2018/12/F921G4IIJX58MRB.LARGE_.jpg\""
   ]
  },
  {
   "cell_type": "code",
   "execution_count": 3,
   "metadata": {},
   "outputs": [
    {
     "data": {
      "text/plain": [
       "('WELCOME TO BEST BUY #321',\n",
       " 'NILES,IL 60714',\n",
       " '(847)827-7110',\n",
       " 'Keep your receipt!',\n",
       " 'Val #：1487-3506-2583-3739',\n",
       " '12:5500151124',\n",
       " '0321006428511/17/10',\n",
       " '15.99',\n",
       " 'BCI-6BK',\n",
       " '4126163',\n",
       " 'CANON BCI-6BK BLACK INK',\n",
       " '15.99',\n",
       " 'ITEM TAX 1.52',\n",
       " 'BCI-6BK',\n",
       " '4126163',\n",
       " 'CANON BCI-6BK BLACK INK',\n",
       " 'ITEM TAX 1.52',\n",
       " '31.98',\n",
       " 'SUBTOTAL',\n",
       " '3.04',\n",
       " 'SALES TAX AMOUNT',\n",
       " '35.02',\n",
       " 'TOTAL',\n",
       " '35.02',\n",
       " 'MASTERCARD',\n",
       " 'xxxxxxxxxxxx8370',\n",
       " 'MYRIAM E BERNAL',\n",
       " 'APPROVAL105059')"
      ]
     },
     "execution_count": 3,
     "metadata": {},
     "output_type": "execute_result"
    }
   ],
   "source": [
    "result = engine(img_url)\n",
    "result.txts"
   ]
  }
 ],
 "metadata": {
  "kernelspec": {
   "display_name": ".venv",
   "language": "python",
   "name": "python3"
  },
  "language_info": {
   "codemirror_mode": {
    "name": "ipython",
    "version": 3
   },
   "file_extension": ".py",
   "mimetype": "text/x-python",
   "name": "python",
   "nbconvert_exporter": "python",
   "pygments_lexer": "ipython3",
   "version": "3.10.16"
  }
 },
 "nbformat": 4,
 "nbformat_minor": 2
}
